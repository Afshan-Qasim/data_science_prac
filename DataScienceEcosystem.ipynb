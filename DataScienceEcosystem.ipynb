{
 "cells": [
  {
   "cell_type": "markdown",
   "id": "386d4a97-382f-4226-8daa-d5223f6174ff",
   "metadata": {},
   "source": [
    "# Data Science Tools and Ecosystem"
   ]
  },
  {
   "cell_type": "markdown",
   "id": "3430dfd7-4b97-4e11-b02e-584648634afd",
   "metadata": {},
   "source": [
    "In this notebook, Data Science Tools and Ecosystem are summarized."
   ]
  },
  {
   "cell_type": "markdown",
   "id": "ccebbb70-b115-41ae-88fd-0eeda9d3f26b",
   "metadata": {},
   "source": [
    "**Objectives:**\n",
    "\n",
    "*   List popular languages for Data Science.\n",
    "*   List commonly used libraries in Data Science.\n",
    "*   Identify some open-source Data Science tools.\n",
    "*   Demonstrate evaluating arithmetic expressions in Python code cells.\n",
    "*   Utilize Markdown for formatting text, lists, and tables."
   ]
  },
  {
   "cell_type": "markdown",
   "id": "27ab4b7e-de78-4ed5-8c09-68a2edfd0722",
   "metadata": {},
   "source": [
    "Some of the popular languages that Data Scientists use are:\n",
    "\n",
    "1. Python\n",
    "2. R\n",
    "3. SQL\n",
    "4. Julia "
   ]
  },
  {
   "cell_type": "markdown",
   "id": "e22fff14-0d0c-4816-8681-217597c7f107",
   "metadata": {},
   "source": [
    "Some of the commonly used libraries used by Data Scientists include:\n",
    "\n",
    "1. NumPy\n",
    "2. Pandas\n",
    "3. Scikit-learn\n",
    "4. Matplotlib\n",
    "5. Seaborn\n",
    "6. TensorFlow\n",
    "7. PyTorch "
   ]
  },
  {
   "cell_type": "markdown",
   "id": "87df312e-4c7d-4a36-a12c-024ba387686e",
   "metadata": {},
   "source": [
    "| Data Science Tools |\n",
    "|---|\n",
    "| JupyterLab |\n",
    "| RStudio |\n",
    "| VS Code |"
   ]
  },
  {
   "cell_type": "markdown",
   "id": "63901978-2199-4022-9deb-03c7f60bbb52",
   "metadata": {},
   "source": [
    "### Below are a few examples of evaluating arithmetic expressions in Python."
   ]
  },
  {
   "cell_type": "code",
   "execution_count": 18,
   "id": "20c26f0c-c4bb-4cb8-a0ec-2bef759c7457",
   "metadata": {},
   "outputs": [
    {
     "data": {
      "text/plain": [
       "17"
      ]
     },
     "execution_count": 18,
     "metadata": {},
     "output_type": "execute_result"
    }
   ],
   "source": [
    "# This a simple arithmetic expression to mutiply then add integers.\n",
    "(3 * 4) + 5"
   ]
  },
  {
   "cell_type": "code",
   "execution_count": 20,
   "id": "26fd08b3-dd81-46ed-ac97-f78ae5998f70",
   "metadata": {},
   "outputs": [
    {
     "data": {
      "text/plain": [
       "3.3333333333333335"
      ]
     },
     "execution_count": 20,
     "metadata": {},
     "output_type": "execute_result"
    }
   ],
   "source": [
    "# This will convert 200 minutes to hours by dividing by 60.\n",
    "200 / 60"
   ]
  },
  {
   "cell_type": "markdown",
   "id": "6d74f18b-ef98-40c0-85e8-27af7b22ca1f",
   "metadata": {},
   "source": [
    "## Author\n",
    "Afshan Qasim"
   ]
  },
  {
   "cell_type": "code",
   "execution_count": null,
   "id": "d9e31f19-d118-41c7-bd7f-9d4901e47c14",
   "metadata": {},
   "outputs": [],
   "source": []
  }
 ],
 "metadata": {
  "kernelspec": {
   "display_name": "Python [conda env:base] *",
   "language": "python",
   "name": "conda-base-py"
  },
  "language_info": {
   "codemirror_mode": {
    "name": "ipython",
    "version": 3
   },
   "file_extension": ".py",
   "mimetype": "text/x-python",
   "name": "python",
   "nbconvert_exporter": "python",
   "pygments_lexer": "ipython3",
   "version": "3.12.7"
  }
 },
 "nbformat": 4,
 "nbformat_minor": 5
}
